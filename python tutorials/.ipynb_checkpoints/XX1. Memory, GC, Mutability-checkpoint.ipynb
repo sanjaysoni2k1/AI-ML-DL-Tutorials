{
 "cells": [
  {
   "cell_type": "markdown",
   "metadata": {},
   "source": [
    "## Variables and Memory Addresses (References)"
   ]
  },
  {
   "cell_type": "code",
   "execution_count": 3,
   "metadata": {},
   "outputs": [
    {
     "name": "stdout",
     "output_type": "stream",
     "text": [
      "Value stored by variable var = 10\n",
      "Memory ADdress of the variable var (decimal) = 140712373761136\n",
      "Memory Address of the variable var (hex) = 0x7ffa270db470\n"
     ]
    }
   ],
   "source": [
    "var = 10\n",
    "print ('Value stored by variable var = {0}'.format(var))\n",
    "print ('Memory ADdress of the variable var (decimal) = {0}'.format(id(var)))\n",
    "print ('Memory Address of the variable var (hex) = {0}'.format(hex(id(var))))"
   ]
  },
  {
   "cell_type": "code",
   "execution_count": 4,
   "metadata": {},
   "outputs": [
    {
     "name": "stdout",
     "output_type": "stream",
     "text": [
      "Value stored by variable greeting = 10\n",
      "Memory ADdress of the variable greeting (decimal) = 1490850248272\n",
      "Memory Address of the variable greeting (hex) = 0x15b1d997650\n"
     ]
    }
   ],
   "source": [
    "greeting = \"Welcome\"\n",
    "print ('Value stored by variable greeting = {0}'.format(var))\n",
    "print ('Memory ADdress of the variable greeting (decimal) = {0}'.format(id(greeting)))\n",
    "print ('Memory Address of the variable greeting (hex) = {0}'.format(hex(id(greeting))))"
   ]
  },
  {
   "cell_type": "markdown",
   "metadata": {},
   "source": [
    "So strictly speaking in technical terms, a variable __var__ is a reference to a specific value **__(which has a type associated with it),__** and is stored at a specific memory address which can be accessed by __id(var)__."
   ]
  },
  {
   "cell_type": "markdown",
   "metadata": {},
   "source": [
    "## Reference Counting\n",
    "A method that return the reference count for a given variable's memory address."
   ]
  },
  {
   "cell_type": "code",
   "execution_count": 5,
   "metadata": {},
   "outputs": [],
   "source": [
    "import ctypes\n",
    "def ref_count(address):\n",
    "    return ctypes.c_long.from_address(address).value"
   ]
  },
  {
   "cell_type": "code",
   "execution_count": 7,
   "metadata": {},
   "outputs": [
    {
     "data": {
      "text/plain": [
       "1"
      ]
     },
     "execution_count": 7,
     "metadata": {},
     "output_type": "execute_result"
    }
   ],
   "source": [
    "my_var = [1,2,3,4]\n",
    "ref_count(id(my_var))"
   ]
  },
  {
   "cell_type": "code",
   "execution_count": 8,
   "metadata": {},
   "outputs": [],
   "source": [
    "my_var1 = my_var\n"
   ]
  },
  {
   "cell_type": "code",
   "execution_count": 9,
   "metadata": {},
   "outputs": [
    {
     "data": {
      "text/plain": [
       "2"
      ]
     },
     "execution_count": 9,
     "metadata": {},
     "output_type": "execute_result"
    }
   ],
   "source": [
    "ref_count(id(my_var))"
   ]
  },
  {
   "cell_type": "code",
   "execution_count": 10,
   "metadata": {},
   "outputs": [
    {
     "data": {
      "text/plain": [
       "3"
      ]
     },
     "execution_count": 10,
     "metadata": {},
     "output_type": "execute_result"
    }
   ],
   "source": [
    "import sys\n",
    "sys.getrefcount(my_var)"
   ]
  },
  {
   "cell_type": "markdown",
   "metadata": {},
   "source": [
    "But why the __getrefcount()__ function is returning 3, instead of 2. This is because, this function takes my_var as an argument i.e. it receives and stores a reference to memory address of __my_var__, in turn increasing the reference cout by 1. "
   ]
  },
  {
   "cell_type": "markdown",
   "metadata": {},
   "source": [
    "You will also realize that once the function has been executed, and if we check the reference count again by using our own function __ref_count()__, the count goes back to 2 again. This is because once the function has been executed the temporary reference stored in function is destroyed automatically as the scope of that variable is function itself and not outside the function boundaries"
   ]
  },
  {
   "cell_type": "code",
   "execution_count": 13,
   "metadata": {},
   "outputs": [
    {
     "data": {
      "text/plain": [
       "(2, 2)"
      ]
     },
     "execution_count": 13,
     "metadata": {},
     "output_type": "execute_result"
    }
   ],
   "source": [
    "ref_count(id(my_var)), ref_count(id(my_var1))"
   ]
  },
  {
   "cell_type": "code",
   "execution_count": 14,
   "metadata": {},
   "outputs": [],
   "source": [
    "my_var1=None\n"
   ]
  },
  {
   "cell_type": "code",
   "execution_count": 16,
   "metadata": {},
   "outputs": [
    {
     "data": {
      "text/plain": [
       "1"
      ]
     },
     "execution_count": 16,
     "metadata": {},
     "output_type": "execute_result"
    }
   ],
   "source": [
    "ref_count(id(my_var))"
   ]
  },
  {
   "cell_type": "markdown",
   "metadata": {},
   "source": [
    "We will not need to deal with the memory management while writing the application code, as Memory Management is completely transparent. \n",
    "\n",
    "This is though, is a good illustration to understand some of the concepts related to various data structures which we will cover in the upcoming topics"
   ]
  },
  {
   "cell_type": "markdown",
   "metadata": {},
   "source": [
    "## Garbage Collection"
   ]
  },
  {
   "cell_type": "code",
   "execution_count": 17,
   "metadata": {},
   "outputs": [],
   "source": [
    "import ctypes\n",
    "import gc"
   ]
  },
  {
   "cell_type": "code",
   "execution_count": 19,
   "metadata": {
    "code_folding": []
   },
   "outputs": [],
   "source": [
    "def ref_count(address):\n",
    "    return ctypes.c_long.from_addresS(address).value\n",
    "\n",
    "def object_by_id(object_id):\n",
    "    for obj in gc.get_objects():\n",
    "        if id(obj) == object_id:\n",
    "            return \"Object Exists\"\n",
    "    return \"Not Found\""
   ]
  },
  {
   "cell_type": "code",
   "execution_count": 24,
   "metadata": {},
   "outputs": [],
   "source": [
    "class A:\n",
    "    def __init__(self):\n",
    "        self.b = B(self)\n",
    "        print('A: self: {0}, b: {1}'.format(hex(id(self)), hex(id(self.b))))\n"
   ]
  },
  {
   "cell_type": "code",
   "execution_count": 25,
   "metadata": {},
   "outputs": [],
   "source": [
    "class B:\n",
    "    def __init__(self, a):\n",
    "        self.a = a\n",
    "        print('B: self: {0}, a: {1}'.format(hex(id(self)), hex(id(self.a))))"
   ]
  },
  {
   "cell_type": "code",
   "execution_count": 26,
   "metadata": {},
   "outputs": [],
   "source": [
    "gc.disable()"
   ]
  },
  {
   "cell_type": "code",
   "execution_count": 27,
   "metadata": {},
   "outputs": [
    {
     "name": "stdout",
     "output_type": "stream",
     "text": [
      "B: self: 0x15b1da68cc0, a: 0x15b1da68550\n",
      "A: self: 0x15b1da68550, b: 0x15b1da68cc0\n"
     ]
    }
   ],
   "source": [
    "my_var = A()"
   ]
  },
  {
   "cell_type": "code",
   "execution_count": 28,
   "metadata": {},
   "outputs": [],
   "source": [
    "## To be updated"
   ]
  },
  {
   "cell_type": "markdown",
   "metadata": {},
   "source": [
    "## Dynamic Typing\n",
    "\n",
    "Python is a dyamically typed language i.e., the type of a variable is simply the type of the object variable name points to. The variable itself has no type associated with it."
   ]
  },
  {
   "cell_type": "code",
   "execution_count": 29,
   "metadata": {},
   "outputs": [
    {
     "data": {
      "text/plain": [
       "str"
      ]
     },
     "execution_count": 29,
     "metadata": {},
     "output_type": "execute_result"
    }
   ],
   "source": [
    "a = \"hello\"\n",
    "type (a)"
   ]
  },
  {
   "cell_type": "code",
   "execution_count": 30,
   "metadata": {},
   "outputs": [
    {
     "data": {
      "text/plain": [
       "int"
      ]
     },
     "execution_count": 30,
     "metadata": {},
     "output_type": "execute_result"
    }
   ],
   "source": [
    "a = 10\n",
    "type(a)"
   ]
  },
  {
   "cell_type": "code",
   "execution_count": 31,
   "metadata": {},
   "outputs": [
    {
     "data": {
      "text/plain": [
       "function"
      ]
     },
     "execution_count": 31,
     "metadata": {},
     "output_type": "execute_result"
    }
   ],
   "source": [
    "a = lambda x: x*2\n",
    "type(a)"
   ]
  },
  {
   "cell_type": "markdown",
   "metadata": {},
   "source": [
    "As is clear from the above examples that the type of variable __a__, changes over the time and is equal to the type of the object the variable reference to. There is no type attached to the variable name itself"
   ]
  },
  {
   "cell_type": "markdown",
   "metadata": {},
   "source": [
    "## Variable Reassignment"
   ]
  },
  {
   "cell_type": "code",
   "execution_count": 33,
   "metadata": {},
   "outputs": [
    {
     "data": {
      "text/plain": [
       "'0x7ffa270db470'"
      ]
     },
     "execution_count": 33,
     "metadata": {},
     "output_type": "execute_result"
    }
   ],
   "source": [
    "a = 10\n",
    "hex(id(a))"
   ]
  },
  {
   "cell_type": "code",
   "execution_count": 34,
   "metadata": {},
   "outputs": [
    {
     "data": {
      "text/plain": [
       "'0x7ffa270db510'"
      ]
     },
     "execution_count": 34,
     "metadata": {},
     "output_type": "execute_result"
    }
   ],
   "source": [
    "a=15\n",
    "hex(id(a))"
   ]
  },
  {
   "cell_type": "code",
   "execution_count": 35,
   "metadata": {},
   "outputs": [
    {
     "data": {
      "text/plain": [
       "'0x7ffa270db5b0'"
      ]
     },
     "execution_count": 35,
     "metadata": {},
     "output_type": "execute_result"
    }
   ],
   "source": [
    "a=20\n",
    "hex(id(a))"
   ]
  },
  {
   "cell_type": "code",
   "execution_count": 36,
   "metadata": {},
   "outputs": [
    {
     "data": {
      "text/plain": [
       "'0x7ffa270db5d0'"
      ]
     },
     "execution_count": 36,
     "metadata": {},
     "output_type": "execute_result"
    }
   ],
   "source": [
    "a = a + 1\n",
    "hex(id(a))"
   ]
  },
  {
   "cell_type": "code",
   "execution_count": 37,
   "metadata": {},
   "outputs": [
    {
     "name": "stdout",
     "output_type": "stream",
     "text": [
      "0x7ffa270db470\n",
      "0x7ffa270db470\n"
     ]
    }
   ],
   "source": [
    "a = 10\n",
    "b = 10\n",
    "print(hex(id(a)))\n",
    "print(hex(id(a)))"
   ]
  },
  {
   "cell_type": "markdown",
   "metadata": {},
   "source": [
    "The memory address of both a and b are same. Let's visit the concepts of why this is happening"
   ]
  },
  {
   "cell_type": "markdown",
   "metadata": {},
   "source": [
    "## Object Mutability\n",
    "\n",
    "Certain Python data types (built in objects) are mutable, i.e., the values which they are referencing can be changed. Or in other words the internal contents of the objects stored in the memory can be modified."
   ]
  },
  {
   "cell_type": "code",
   "execution_count": 38,
   "metadata": {},
   "outputs": [
    {
     "name": "stdout",
     "output_type": "stream",
     "text": [
      "[1, 2, 3, 4]\n",
      "0x15b1d114088\n"
     ]
    }
   ],
   "source": [
    "my_list = [1,2,3,4]\n",
    "print(my_list)\n",
    "print(hex(id(my_list)))"
   ]
  },
  {
   "cell_type": "code",
   "execution_count": 39,
   "metadata": {},
   "outputs": [
    {
     "name": "stdout",
     "output_type": "stream",
     "text": [
      "[1, 2, 3, 4, 5]\n",
      "0x15b1d114088\n"
     ]
    }
   ],
   "source": [
    "my_list.append(5)\n",
    "print(my_list)\n",
    "print(hex(id(my_list)))"
   ]
  },
  {
   "cell_type": "markdown",
   "metadata": {},
   "source": [
    "As you can see the memory address of the variable __my_list__ has not changed, but the contents of the list has changed"
   ]
  },
  {
   "cell_type": "markdown",
   "metadata": {},
   "source": [
    "On the other hand __tuples__ are immuatable objects i.e. we cannot add, delete or replace the elements in a tuple. Let's see this by way of the example:"
   ]
  },
  {
   "cell_type": "code",
   "execution_count": 42,
   "metadata": {},
   "outputs": [
    {
     "name": "stdout",
     "output_type": "stream",
     "text": [
      "(1, 2, 3)\n",
      "0x15b1da6d438\n",
      "1\n"
     ]
    }
   ],
   "source": [
    "t = (1,2,3)\n",
    "print(t)\n",
    "print(hex(id(t)))\n",
    "print(t[0])"
   ]
  },
  {
   "cell_type": "code",
   "execution_count": 43,
   "metadata": {},
   "outputs": [
    {
     "ename": "TypeError",
     "evalue": "'tuple' object does not support item assignment",
     "output_type": "error",
     "traceback": [
      "\u001b[1;31m---------------------------------------------------------------------------\u001b[0m",
      "\u001b[1;31mTypeError\u001b[0m                                 Traceback (most recent call last)",
      "\u001b[1;32m<ipython-input-43-cffc1a870c9f>\u001b[0m in \u001b[0;36m<module>\u001b[1;34m\u001b[0m\n\u001b[0;32m      1\u001b[0m \u001b[1;31m#Now let's try to change the first value of the tupe and see what happens\u001b[0m\u001b[1;33m\u001b[0m\u001b[1;33m\u001b[0m\u001b[1;33m\u001b[0m\u001b[0m\n\u001b[1;32m----> 2\u001b[1;33m \u001b[0mt\u001b[0m\u001b[1;33m[\u001b[0m\u001b[1;36m0\u001b[0m\u001b[1;33m]\u001b[0m\u001b[1;33m=\u001b[0m\u001b[1;36m5\u001b[0m\u001b[1;33m\u001b[0m\u001b[1;33m\u001b[0m\u001b[0m\n\u001b[0m",
      "\u001b[1;31mTypeError\u001b[0m: 'tuple' object does not support item assignment"
     ]
    }
   ],
   "source": [
    "#Now let's try to change the first value of the tupe and see what happens\n",
    "t[0]=5"
   ]
  },
  {
   "cell_type": "markdown",
   "metadata": {},
   "source": [
    "As you can see that we cannot change the value of the tuples, stored at the memory location referenced by the variable __t__. <br>\n",
    "Note that we can however reassign a different memory location to variable t, and that memory location may contain a different object altogether (including may be a different tuple object)"
   ]
  },
  {
   "cell_type": "code",
   "execution_count": 44,
   "metadata": {},
   "outputs": [
    {
     "name": "stdout",
     "output_type": "stream",
     "text": [
      "(1, 2, 3, 4)\n",
      "0x15b1dafe548\n"
     ]
    }
   ],
   "source": [
    "t = (1,2,3,4)\n",
    "print(t)\n",
    "print(hex(id(t)))"
   ]
  },
  {
   "cell_type": "markdown",
   "metadata": {},
   "source": [
    "As you can see the memory address which the variable __t__ is referencing is different from the one which was reference before the re-assignment in the code above"
   ]
  },
  {
   "cell_type": "markdown",
   "metadata": {},
   "source": [
    "Let's observe another example. In this particular case we will create a tuple which will have mutable elements (list) in it, and observer how the immutability works"
   ]
  },
  {
   "cell_type": "code",
   "execution_count": 45,
   "metadata": {},
   "outputs": [
    {
     "name": "stdout",
     "output_type": "stream",
     "text": [
      "[1, 2, 3] 0x15b1da5e988\n",
      "[4, 5, 6] 0x15b1da5e608\n",
      "([1, 2, 3], [4, 5, 6]) 0x15b1d10c188\n"
     ]
    }
   ],
   "source": [
    "a=[1,2,3]\n",
    "b=[4,5,6]\n",
    "t = (a,b)\n",
    "print(a, hex(id(a)))\n",
    "print(b, hex(id(b)))\n",
    "print(t, hex(id(t)))"
   ]
  },
  {
   "cell_type": "code",
   "execution_count": 46,
   "metadata": {},
   "outputs": [],
   "source": [
    "a.append(9)\n",
    "b.append(10)"
   ]
  },
  {
   "cell_type": "code",
   "execution_count": 47,
   "metadata": {},
   "outputs": [
    {
     "name": "stdout",
     "output_type": "stream",
     "text": [
      "[1, 2, 3, 9] 0x15b1da5e988\n",
      "[4, 5, 6, 10] 0x15b1da5e608\n",
      "([1, 2, 3, 9], [4, 5, 6, 10]) 0x15b1d10c188\n"
     ]
    }
   ],
   "source": [
    "print(a, hex(id(a)))\n",
    "print(b, hex(id(b)))\n",
    "print(t, hex(id(t)))"
   ]
  },
  {
   "cell_type": "markdown",
   "metadata": {},
   "source": [
    "Now it appears that the tuple __t__ has changed, but its not the case. The elements of the tuple t are references to individual lists which has not changes, but as the list object itself is mutable; hence the content of individual lists can be modified. \n",
    "\n",
    "The original memory references to list elements, which are stored in tuple itself has not changed.\n",
    "\n",
    "So immutability can be little more subtle than just thinking that something can never change"
   ]
  },
  {
   "cell_type": "markdown",
   "metadata": {},
   "source": [
    "## Function Arguments and Mutability"
   ]
  },
  {
   "cell_type": "code",
   "execution_count": 52,
   "metadata": {},
   "outputs": [],
   "source": [
    "def process(s):\n",
    "    print ('initia s # = {0}'.format(hex(id(s))))\n",
    "    s = s + 'world'\n",
    "    print ('s after change # = {0}'.format(hex(id(s))))"
   ]
  },
  {
   "cell_type": "code",
   "execution_count": 53,
   "metadata": {},
   "outputs": [
    {
     "name": "stdout",
     "output_type": "stream",
     "text": [
      "my_var # = 0x15b1dafd880\n"
     ]
    }
   ],
   "source": [
    "my_var = 'hello'\n",
    "print ('my_var # = {0}'.format(hex(id(my_var))))"
   ]
  },
  {
   "cell_type": "markdown",
   "metadata": {},
   "source": [
    "Now we will pass our variable __my_var__ as the argument to function process. As a result of this we should expect the following:\n",
    "- the variable __s__, should initially point to the same memory address as variable __my_var__, but,  \n",
    "- after the string concatenation it should point to the other memory location storing the concatenated string value\n",
    "- and our original variable __my_var__, should still be pointing to the same memory location and value"
   ]
  },
  {
   "cell_type": "code",
   "execution_count": 54,
   "metadata": {
    "scrolled": true
   },
   "outputs": [
    {
     "name": "stdout",
     "output_type": "stream",
     "text": [
      "initia s # = 0x15b1dafd880\n",
      "s after change # = 0x15b1daef530\n",
      "Original value stored by my_var is hello, and this is still stored at the same memory location # = 0x15b1dafd880\n"
     ]
    }
   ],
   "source": [
    "process(my_var)\n",
    "print(\"Original value stored by my_var is {0}, and this is still stored at the same memory location # = {1}\".format(my_var, hex(id(my_var))))"
   ]
  },
  {
   "cell_type": "markdown",
   "metadata": {},
   "source": [
    "Let's see how this works with the mutable objectss."
   ]
  },
  {
   "cell_type": "code",
   "execution_count": 60,
   "metadata": {},
   "outputs": [],
   "source": [
    "def modify_list(items):\n",
    "    print('initial items # = {0}'.format(hex(id(items))))\n",
    "    if len(items)>0:\n",
    "        items[0] = items[0]**2\n",
    "    items.pop()\n",
    "    items.append(5)\n",
    "    print('final items # = {0}'.format(hex(id(items))))"
   ]
  },
  {
   "cell_type": "code",
   "execution_count": 61,
   "metadata": {},
   "outputs": [
    {
     "name": "stdout",
     "output_type": "stream",
     "text": [
      "my_list # - 0x15b1daffa88\n"
     ]
    }
   ],
   "source": [
    "my_list = [2,5,7,8]\n",
    "print('my_list # - {0}'.format(hex(id(my_list))))"
   ]
  },
  {
   "cell_type": "code",
   "execution_count": 62,
   "metadata": {},
   "outputs": [
    {
     "name": "stdout",
     "output_type": "stream",
     "text": [
      "initial items # = 0x15b1daffa88\n",
      "final items # = 0x15b1daffa88\n"
     ]
    }
   ],
   "source": [
    "modify_list(my_list)"
   ]
  },
  {
   "cell_type": "code",
   "execution_count": 63,
   "metadata": {},
   "outputs": [
    {
     "name": "stdout",
     "output_type": "stream",
     "text": [
      "Contents of my_list = [4, 5, 7, 5], and memory address of my_list # = 0x15b1daffa88\n"
     ]
    }
   ],
   "source": [
    "print(\"Contents of my_list = {0}, and memory address of my_list # = {1}\".format(my_list, hex(id(my_list))))"
   ]
  },
  {
   "cell_type": "markdown",
   "metadata": {},
   "source": [
    "As you can observe through out all the code and transformations, the memory address referenced by the variable my_list is always the __same__ shared reference, and we are simply modifying the internal state of the object stored at the original memory address. \n",
    "\n",
    "__We should be careful when to use mutable objects, and immutable objects. And we are passing mutable objects to the functions as argument, there is a possibility that internal state of the original object gets modified__\n",
    "\n",
    "__We should be careful even with the immutable container, for e.g. a tuple containing a list (the tuple is immutable, but the list element inside the tuple is mutable__"
   ]
  },
  {
   "cell_type": "code",
   "execution_count": 64,
   "metadata": {},
   "outputs": [],
   "source": [
    "def modify_tuple(t):\n",
    "    print('initial t # = {0}'.format(hex(id(t))))\n",
    "    t[0].append(100)\n",
    "    print('final t # = {0}'.format(hex(id(t))))"
   ]
  },
  {
   "cell_type": "code",
   "execution_count": 65,
   "metadata": {},
   "outputs": [
    {
     "name": "stdout",
     "output_type": "stream",
     "text": [
      "([1, 3], 'a') 0x15b1d105d48\n"
     ]
    }
   ],
   "source": [
    "my_tuple = ([1,3], 'a')\n",
    "print(my_tuple, hex(id(my_tuple)))"
   ]
  },
  {
   "cell_type": "code",
   "execution_count": 66,
   "metadata": {},
   "outputs": [
    {
     "name": "stdout",
     "output_type": "stream",
     "text": [
      "initial t # = 0x15b1d105d48\n",
      "final t # = 0x15b1d105d48\n"
     ]
    }
   ],
   "source": [
    "modify_tuple(my_tuple)"
   ]
  },
  {
   "cell_type": "code",
   "execution_count": 67,
   "metadata": {},
   "outputs": [
    {
     "name": "stdout",
     "output_type": "stream",
     "text": [
      "([1, 3, 100], 'a') 0x15b1d105d48\n"
     ]
    }
   ],
   "source": [
    "print(my_tuple, hex(id(my_tuple)))"
   ]
  },
  {
   "cell_type": "markdown",
   "metadata": {},
   "source": [
    "As you can see the first element of the tuple i.e. a list has been mutated."
   ]
  },
  {
   "cell_type": "markdown",
   "metadata": {},
   "source": [
    "## Shared References and Mutability\n",
    "\n",
    "The following code sets up a shared reference between the variables my_var_1, and my_var_2"
   ]
  },
  {
   "cell_type": "code",
   "execution_count": 71,
   "metadata": {},
   "outputs": [
    {
     "name": "stdout",
     "output_type": "stream",
     "text": [
      "hello 0x15b1dafd880\n",
      "hello 0x15b1dafd880\n"
     ]
    }
   ],
   "source": [
    "my_var_1 = 'hello'\n",
    "my_var_2 = my_var_1\n",
    "print(my_var_1, hex(id(my_var_1)))\n",
    "print(my_var_2, hex(id(my_var_2)))\n"
   ]
  },
  {
   "cell_type": "code",
   "execution_count": 72,
   "metadata": {},
   "outputs": [
    {
     "name": "stdout",
     "output_type": "stream",
     "text": [
      "hello 0x15b1dafd880\n",
      "hello world 0x15b1d114070\n"
     ]
    }
   ],
   "source": [
    "my_var_2 = my_var_2 + ' world'\n",
    "print(my_var_1, hex(id(my_var_1)))\n",
    "print(my_var_2, hex(id(my_var_2)))"
   ]
  },
  {
   "cell_type": "markdown",
   "metadata": {},
   "source": [
    "As you can see when we performed the string concatenation on my_var_2, the memory reference for my_var_2 was modified and stored the new string object (result of concatenation operation). The original memory address and object state (i.e. the value __hello__) was retained for the variable __my_var_1__\n",
    "\n",
    "We should be careful when performing the similar operation with mutable objects like list and dictionary\n",
    "\n",
    "In the code snippet below, we create a list my_list_1 and my_list_2 referencing the same list object"
   ]
  },
  {
   "cell_type": "code",
   "execution_count": 73,
   "metadata": {},
   "outputs": [
    {
     "name": "stdout",
     "output_type": "stream",
     "text": [
      "[1, 2, 3] 0x15b1daffb88\n",
      "[1, 2, 3] 0x15b1daffb88\n"
     ]
    }
   ],
   "source": [
    "my_list_1 = [1,2,3]\n",
    "my_list_2 = my_list_1\n",
    "print(my_list_1, hex(id(my_list_1)))\n",
    "print(my_list_2, hex(id(my_list_2)))"
   ]
  },
  {
   "cell_type": "code",
   "execution_count": 74,
   "metadata": {},
   "outputs": [
    {
     "name": "stdout",
     "output_type": "stream",
     "text": [
      "[1, 2, 3, 4]\n"
     ]
    }
   ],
   "source": [
    "#Let's modify the list referenced by variable my_list_2\n",
    "my_list_2.append(4)\n",
    "print(my_list_2)"
   ]
  },
  {
   "cell_type": "code",
   "execution_count": 75,
   "metadata": {},
   "outputs": [
    {
     "name": "stdout",
     "output_type": "stream",
     "text": [
      "[1, 2, 3, 4] 0x15b1daffb88\n",
      "[1, 2, 3, 4] 0x15b1daffb88\n"
     ]
    }
   ],
   "source": [
    "#Let's now observe the object value and memory address for the both the list variables again\n",
    "print(my_list_1, hex(id(my_list_1)))\n",
    "print(my_list_2, hex(id(my_list_2)))"
   ]
  },
  {
   "cell_type": "markdown",
   "metadata": {},
   "source": [
    "As you can see both variables shared the reference to the same memory address which stored the mutable object, as such when modifications were performed using the variable __my_var_2__, it also affected the value referenced by variable __my_var_1__"
   ]
  },
  {
   "cell_type": "markdown",
   "metadata": {},
   "source": [
    "## Python Memory Manager\n",
    "\n",
    "Python memory manager take care of the this behaviour of mutable and immutable objects. Recall from the __\"Reference Counting\"__ section that when we run the following code\n",
    "<code>\n",
    "    a = 10\n",
    "    b = 10\n",
    "</code>\n",
    "\n",
    "Python allocated the same memory address to both the variables, i.e. because Python Memory Manager differentiates between the __mutable__ and __immutable__ objects. And as it is safe to assign the same memory address to immutable object as we can never modify __a's__ value by modifying __b's__ value, python assigns the same memory address initially to the immutable objects if they have the same object state\n",
    "\n",
    "Python manager doesn't do this for mutable objects though.\n",
    "\n",
    "Let's see the below code snipper for illustration:"
   ]
  },
  {
   "cell_type": "code",
   "execution_count": 76,
   "metadata": {},
   "outputs": [
    {
     "name": "stdout",
     "output_type": "stream",
     "text": [
      "Value of a = 10, and memory address for a is # - 0x7ffa270db470\n",
      "Value of b = 10, and memory address for a is # - 0x7ffa270db470\n"
     ]
    }
   ],
   "source": [
    "a = 10\n",
    "b = 10\n",
    "print(\"Value of a = {0}, and memory address for a is # - {1}\".format(a, hex(id(a))))\n",
    "print(\"Value of b = {0}, and memory address for a is # - {1}\".format(b, hex(id(b))))"
   ]
  },
  {
   "cell_type": "code",
   "execution_count": 78,
   "metadata": {},
   "outputs": [
    {
     "name": "stdout",
     "output_type": "stream",
     "text": [
      "Value of my_list_1 = [1, 2, 3], and memory address for my_list_1 is # - 0x15b1db09288\n",
      "Value of my_list_shared_ref = [1, 2, 3], and memory address for my_list_shared_ref is # - 0x15b1db09288\n",
      "Value of my_list_2 = [1, 2, 3], and memory address for my_list_2 is # - 0x15b1daffb48\n"
     ]
    }
   ],
   "source": [
    "my_list_1 = [1,2,3]\n",
    "my_list_2 = [1,2,3]\n",
    "my_list_shared_ref = my_list_1\n",
    "\n",
    "print(\"Value of my_list_1 = {0}, and memory address for my_list_1 is # - {1}\".format(my_list_1, hex(id(my_list_1))))\n",
    "print(\"Value of my_list_shared_ref = {0}, and memory address for my_list_shared_ref is # - {1}\".format(my_list_shared_ref, hex(id(my_list_shared_ref))))\n",
    "print(\"Value of my_list_2 = {0}, and memory address for my_list_2 is # - {1}\".format(my_list_2, hex(id(my_list_2))))\n"
   ]
  },
  {
   "cell_type": "markdown",
   "metadata": {},
   "source": [
    "## Variable Equality\n",
    "\n",
    "Now we all know by now that Python Memory manager will assign the same memory references when two variables are initialized by the same values of immuatable object\n",
    "\n",
    "See below:"
   ]
  },
  {
   "cell_type": "code",
   "execution_count": 81,
   "metadata": {},
   "outputs": [
    {
     "name": "stdout",
     "output_type": "stream",
     "text": [
      "0x7ffa270db470 0x7ffa270db470\n"
     ]
    }
   ],
   "source": [
    "a = 10\n",
    "b = 10\n",
    "print (hex(id(a)), hex(id(b)))"
   ]
  },
  {
   "cell_type": "markdown",
   "metadata": {},
   "source": [
    "### Memory Address Comparison vs Value Comparison\n",
    "\n",
    "- When we use the __is__ operator, we are actually comparing the memory addresses referenced by the variables, whereas\n",
    "- When we use the __==__ operator, we are actually comparing the values referenced by the variables"
   ]
  },
  {
   "cell_type": "code",
   "execution_count": 83,
   "metadata": {},
   "outputs": [
    {
     "name": "stdout",
     "output_type": "stream",
     "text": [
      "a is b : True\n",
      "a == b: True\n"
     ]
    }
   ],
   "source": [
    "print('a is b :', a is b)\n",
    "print('a == b:', a==b)"
   ]
  },
  {
   "cell_type": "code",
   "execution_count": 84,
   "metadata": {},
   "outputs": [
    {
     "name": "stdout",
     "output_type": "stream",
     "text": [
      "0x15b1dafff48 0x15b1db09348\n"
     ]
    }
   ],
   "source": [
    "# The following don't have a shared references, so is operator will result in to FALSE\n",
    "a = [1,2,3]\n",
    "b = [1,2,3]\n",
    "print (hex(id(a)), hex(id(b)))"
   ]
  },
  {
   "cell_type": "code",
   "execution_count": 85,
   "metadata": {},
   "outputs": [
    {
     "name": "stdout",
     "output_type": "stream",
     "text": [
      "a is b : False\n",
      "a == b: True\n"
     ]
    }
   ],
   "source": [
    "print('a is b :', a is b)\n",
    "print('a == b:', a==b)"
   ]
  },
  {
   "cell_type": "markdown",
   "metadata": {},
   "source": [
    "Although they are not the same object, but a and b contains the same value hence in the code snippet above __==__ operator resulted in value __True__\n",
    "\n",
    "Python will attempt to compare the values as best as possible, ignoring the associated data types. See the code base below for illustration"
   ]
  },
  {
   "cell_type": "code",
   "execution_count": 86,
   "metadata": {},
   "outputs": [
    {
     "name": "stdout",
     "output_type": "stream",
     "text": [
      "0x7ffa270db470 0x15b1da96e58\n",
      "a is b : False\n",
      "a == b: True\n"
     ]
    }
   ],
   "source": [
    "a = 10\n",
    "b = 10.0\n",
    "print (hex(id(a)), hex(id(b)))\n",
    "print('a is b :', a is b)\n",
    "print('a == b:', a==b)"
   ]
  },
  {
   "cell_type": "code",
   "execution_count": 87,
   "metadata": {},
   "outputs": [
    {
     "name": "stdout",
     "output_type": "stream",
     "text": [
      "<class 'int'> <class 'complex'>\n",
      "0x7ffa270db470 0x15b1d94cbf0\n",
      "a is b : False\n",
      "a == b: True\n"
     ]
    }
   ],
   "source": [
    "a = 10\n",
    "b = 10 + 0j\n",
    "print(type(a), type(b))\n",
    "print (hex(id(a)), hex(id(b)))\n",
    "print('a is b :', a is b)\n",
    "print('a == b:', a==b)"
   ]
  },
  {
   "cell_type": "markdown",
   "metadata": {},
   "source": [
    "## None Object\n",
    "\n",
    "None is a built-in \"variable\" of type NoneType. Basically the keyword None is a reference to an object instance of type _NoneType._\n",
    "\n",
    "NoneType objects are immutable, and hence the Python's memory manager will use the shared references to the None object"
   ]
  },
  {
   "cell_type": "code",
   "execution_count": 93,
   "metadata": {},
   "outputs": [
    {
     "name": "stdout",
     "output_type": "stream",
     "text": [
      "Value of None is None,\n",
      "Type of None is <class 'NoneType'>,\n",
      "and Memory Address of default instance on NoneType object is 0x7ffa27064ce0\n"
     ]
    }
   ],
   "source": [
    "print('Value of None is {0},\\nType of None is {1},\\nand Memory Address of default instance on NoneType object is {2}'\\\n",
    "     .format(None, type(None), hex(id(None))))"
   ]
  },
  {
   "cell_type": "code",
   "execution_count": 94,
   "metadata": {},
   "outputs": [
    {
     "name": "stdout",
     "output_type": "stream",
     "text": [
      "<class 'NoneType'> 0x7ffa27064ce0 0x7ffa27064ce0\n"
     ]
    }
   ],
   "source": [
    "a = None\n",
    "print(type(a), hex(id(a)), hex(id(None)))"
   ]
  },
  {
   "cell_type": "code",
   "execution_count": 95,
   "metadata": {},
   "outputs": [
    {
     "data": {
      "text/plain": [
       "True"
      ]
     },
     "execution_count": 95,
     "metadata": {},
     "output_type": "execute_result"
    }
   ],
   "source": [
    "a is None"
   ]
  },
  {
   "cell_type": "code",
   "execution_count": 96,
   "metadata": {},
   "outputs": [
    {
     "data": {
      "text/plain": [
       "True"
      ]
     },
     "execution_count": 96,
     "metadata": {},
     "output_type": "execute_result"
    }
   ],
   "source": [
    "a == None"
   ]
  },
  {
   "cell_type": "code",
   "execution_count": 97,
   "metadata": {},
   "outputs": [
    {
     "name": "stdout",
     "output_type": "stream",
     "text": [
      "<class 'NoneType'> 0x7ffa27064ce0 0x7ffa27064ce0 0x7ffa27064ce0\n"
     ]
    }
   ],
   "source": [
    "b = None\n",
    "print(type(b), hex(id(b)), hex(id(a)), hex(id(None)))"
   ]
  },
  {
   "cell_type": "code",
   "execution_count": 98,
   "metadata": {},
   "outputs": [
    {
     "data": {
      "text/plain": [
       "(True, True)"
      ]
     },
     "execution_count": 98,
     "metadata": {},
     "output_type": "execute_result"
    }
   ],
   "source": [
    "a is b, a==b"
   ]
  },
  {
   "cell_type": "code",
   "execution_count": 99,
   "metadata": {},
   "outputs": [
    {
     "name": "stdout",
     "output_type": "stream",
     "text": [
      "<class 'NoneType'> 0x15b1db092c8 0x7ffa27064ce0\n"
     ]
    }
   ],
   "source": [
    "#Empty List is not equal to None hence these operations will fail\n",
    "l = []\n",
    "print(type(a), hex(id(l)), hex(id(None)))"
   ]
  },
  {
   "cell_type": "code",
   "execution_count": 100,
   "metadata": {},
   "outputs": [
    {
     "data": {
      "text/plain": [
       "(False, False)"
      ]
     },
     "execution_count": 100,
     "metadata": {},
     "output_type": "execute_result"
    }
   ],
   "source": [
    "l is None, l==None"
   ]
  },
  {
   "cell_type": "markdown",
   "metadata": {},
   "source": [
    "## Everything is an Object"
   ]
  },
  {
   "cell_type": "code",
   "execution_count": 101,
   "metadata": {},
   "outputs": [
    {
     "name": "stdout",
     "output_type": "stream",
     "text": [
      "10 <class 'int'>\n"
     ]
    }
   ],
   "source": [
    "a = 10\n",
    "print(a, type(a))"
   ]
  },
  {
   "cell_type": "code",
   "execution_count": 104,
   "metadata": {},
   "outputs": [
    {
     "name": "stdout",
     "output_type": "stream",
     "text": [
      "10 <class 'int'> 0x7ffa270db470\n",
      "10 <class 'int'> 0x7ffa270db470\n"
     ]
    }
   ],
   "source": [
    "b = int(10)\n",
    "print(b, type(b), hex(id(b)))\n",
    "print(a, type(a), hex(id(a)))"
   ]
  },
  {
   "cell_type": "code",
   "execution_count": 105,
   "metadata": {},
   "outputs": [
    {
     "name": "stdout",
     "output_type": "stream",
     "text": [
      "Help on class int in module builtins:\n",
      "\n",
      "class int(object)\n",
      " |  int([x]) -> integer\n",
      " |  int(x, base=10) -> integer\n",
      " |  \n",
      " |  Convert a number or string to an integer, or return 0 if no arguments\n",
      " |  are given.  If x is a number, return x.__int__().  For floating point\n",
      " |  numbers, this truncates towards zero.\n",
      " |  \n",
      " |  If x is not a number or if base is given, then x must be a string,\n",
      " |  bytes, or bytearray instance representing an integer literal in the\n",
      " |  given base.  The literal can be preceded by '+' or '-' and be surrounded\n",
      " |  by whitespace.  The base defaults to 10.  Valid bases are 0 and 2-36.\n",
      " |  Base 0 means to interpret the base from the string as an integer literal.\n",
      " |  >>> int('0b100', base=0)\n",
      " |  4\n",
      " |  \n",
      " |  Methods defined here:\n",
      " |  \n",
      " |  __abs__(self, /)\n",
      " |      abs(self)\n",
      " |  \n",
      " |  __add__(self, value, /)\n",
      " |      Return self+value.\n",
      " |  \n",
      " |  __and__(self, value, /)\n",
      " |      Return self&value.\n",
      " |  \n",
      " |  __bool__(self, /)\n",
      " |      self != 0\n",
      " |  \n",
      " |  __ceil__(...)\n",
      " |      Ceiling of an Integral returns itself.\n",
      " |  \n",
      " |  __divmod__(self, value, /)\n",
      " |      Return divmod(self, value).\n",
      " |  \n",
      " |  __eq__(self, value, /)\n",
      " |      Return self==value.\n",
      " |  \n",
      " |  __float__(self, /)\n",
      " |      float(self)\n",
      " |  \n",
      " |  __floor__(...)\n",
      " |      Flooring an Integral returns itself.\n",
      " |  \n",
      " |  __floordiv__(self, value, /)\n",
      " |      Return self//value.\n",
      " |  \n",
      " |  __format__(self, format_spec, /)\n",
      " |      Default object formatter.\n",
      " |  \n",
      " |  __ge__(self, value, /)\n",
      " |      Return self>=value.\n",
      " |  \n",
      " |  __getattribute__(self, name, /)\n",
      " |      Return getattr(self, name).\n",
      " |  \n",
      " |  __getnewargs__(self, /)\n",
      " |  \n",
      " |  __gt__(self, value, /)\n",
      " |      Return self>value.\n",
      " |  \n",
      " |  __hash__(self, /)\n",
      " |      Return hash(self).\n",
      " |  \n",
      " |  __index__(self, /)\n",
      " |      Return self converted to an integer, if self is suitable for use as an index into a list.\n",
      " |  \n",
      " |  __int__(self, /)\n",
      " |      int(self)\n",
      " |  \n",
      " |  __invert__(self, /)\n",
      " |      ~self\n",
      " |  \n",
      " |  __le__(self, value, /)\n",
      " |      Return self<=value.\n",
      " |  \n",
      " |  __lshift__(self, value, /)\n",
      " |      Return self<<value.\n",
      " |  \n",
      " |  __lt__(self, value, /)\n",
      " |      Return self<value.\n",
      " |  \n",
      " |  __mod__(self, value, /)\n",
      " |      Return self%value.\n",
      " |  \n",
      " |  __mul__(self, value, /)\n",
      " |      Return self*value.\n",
      " |  \n",
      " |  __ne__(self, value, /)\n",
      " |      Return self!=value.\n",
      " |  \n",
      " |  __neg__(self, /)\n",
      " |      -self\n",
      " |  \n",
      " |  __or__(self, value, /)\n",
      " |      Return self|value.\n",
      " |  \n",
      " |  __pos__(self, /)\n",
      " |      +self\n",
      " |  \n",
      " |  __pow__(self, value, mod=None, /)\n",
      " |      Return pow(self, value, mod).\n",
      " |  \n",
      " |  __radd__(self, value, /)\n",
      " |      Return value+self.\n",
      " |  \n",
      " |  __rand__(self, value, /)\n",
      " |      Return value&self.\n",
      " |  \n",
      " |  __rdivmod__(self, value, /)\n",
      " |      Return divmod(value, self).\n",
      " |  \n",
      " |  __repr__(self, /)\n",
      " |      Return repr(self).\n",
      " |  \n",
      " |  __rfloordiv__(self, value, /)\n",
      " |      Return value//self.\n",
      " |  \n",
      " |  __rlshift__(self, value, /)\n",
      " |      Return value<<self.\n",
      " |  \n",
      " |  __rmod__(self, value, /)\n",
      " |      Return value%self.\n",
      " |  \n",
      " |  __rmul__(self, value, /)\n",
      " |      Return value*self.\n",
      " |  \n",
      " |  __ror__(self, value, /)\n",
      " |      Return value|self.\n",
      " |  \n",
      " |  __round__(...)\n",
      " |      Rounding an Integral returns itself.\n",
      " |      Rounding with an ndigits argument also returns an integer.\n",
      " |  \n",
      " |  __rpow__(self, value, mod=None, /)\n",
      " |      Return pow(value, self, mod).\n",
      " |  \n",
      " |  __rrshift__(self, value, /)\n",
      " |      Return value>>self.\n",
      " |  \n",
      " |  __rshift__(self, value, /)\n",
      " |      Return self>>value.\n",
      " |  \n",
      " |  __rsub__(self, value, /)\n",
      " |      Return value-self.\n",
      " |  \n",
      " |  __rtruediv__(self, value, /)\n",
      " |      Return value/self.\n",
      " |  \n",
      " |  __rxor__(self, value, /)\n",
      " |      Return value^self.\n",
      " |  \n",
      " |  __sizeof__(self, /)\n",
      " |      Returns size in memory, in bytes.\n",
      " |  \n",
      " |  __str__(self, /)\n",
      " |      Return str(self).\n",
      " |  \n",
      " |  __sub__(self, value, /)\n",
      " |      Return self-value.\n",
      " |  \n",
      " |  __truediv__(self, value, /)\n",
      " |      Return self/value.\n",
      " |  \n",
      " |  __trunc__(...)\n",
      " |      Truncating an Integral returns itself.\n",
      " |  \n",
      " |  __xor__(self, value, /)\n",
      " |      Return self^value.\n",
      " |  \n",
      " |  bit_length(self, /)\n",
      " |      Number of bits necessary to represent self in binary.\n",
      " |      \n",
      " |      >>> bin(37)\n",
      " |      '0b100101'\n",
      " |      >>> (37).bit_length()\n",
      " |      6\n",
      " |  \n",
      " |  conjugate(...)\n",
      " |      Returns self, the complex conjugate of any int.\n",
      " |  \n",
      " |  to_bytes(self, /, length, byteorder, *, signed=False)\n",
      " |      Return an array of bytes representing an integer.\n",
      " |      \n",
      " |      length\n",
      " |        Length of bytes object to use.  An OverflowError is raised if the\n",
      " |        integer is not representable with the given number of bytes.\n",
      " |      byteorder\n",
      " |        The byte order used to represent the integer.  If byteorder is 'big',\n",
      " |        the most significant byte is at the beginning of the byte array.  If\n",
      " |        byteorder is 'little', the most significant byte is at the end of the\n",
      " |        byte array.  To request the native byte order of the host system, use\n",
      " |        `sys.byteorder' as the byte order value.\n",
      " |      signed\n",
      " |        Determines whether two's complement is used to represent the integer.\n",
      " |        If signed is False and a negative integer is given, an OverflowError\n",
      " |        is raised.\n",
      " |  \n",
      " |  ----------------------------------------------------------------------\n",
      " |  Class methods defined here:\n",
      " |  \n",
      " |  from_bytes(bytes, byteorder, *, signed=False) from builtins.type\n",
      " |      Return the integer represented by the given array of bytes.\n",
      " |      \n",
      " |      bytes\n",
      " |        Holds the array of bytes to convert.  The argument must either\n",
      " |        support the buffer protocol or be an iterable object producing bytes.\n",
      " |        Bytes and bytearray are examples of built-in objects that support the\n",
      " |        buffer protocol.\n",
      " |      byteorder\n",
      " |        The byte order used to represent the integer.  If byteorder is 'big',\n",
      " |        the most significant byte is at the beginning of the byte array.  If\n",
      " |        byteorder is 'little', the most significant byte is at the end of the\n",
      " |        byte array.  To request the native byte order of the host system, use\n",
      " |        `sys.byteorder' as the byte order value.\n",
      " |      signed\n",
      " |        Indicates whether two's complement is used to represent the integer.\n",
      " |  \n",
      " |  ----------------------------------------------------------------------\n",
      " |  Static methods defined here:\n",
      " |  \n",
      " |  __new__(*args, **kwargs) from builtins.type\n",
      " |      Create and return a new object.  See help(type) for accurate signature.\n",
      " |  \n",
      " |  ----------------------------------------------------------------------\n",
      " |  Data descriptors defined here:\n",
      " |  \n",
      " |  denominator\n",
      " |      the denominator of a rational number in lowest terms\n",
      " |  \n",
      " |  imag\n",
      " |      the imaginary part of a complex number\n",
      " |  \n",
      " |  numerator\n",
      " |      the numerator of a rational number in lowest terms\n",
      " |  \n",
      " |  real\n",
      " |      the real part of a complex number\n",
      "\n"
     ]
    }
   ],
   "source": [
    "#We can even request the class documentation\n",
    "help(int)"
   ]
  },
  {
   "cell_type": "markdown",
   "metadata": {},
   "source": [
    "### Functions are Object Too\n",
    "\n",
    "Even the functions we create in Python are Objects too"
   ]
  },
  {
   "cell_type": "code",
   "execution_count": 106,
   "metadata": {},
   "outputs": [],
   "source": [
    "def square(a):\n",
    "    return a ** 2"
   ]
  },
  {
   "cell_type": "code",
   "execution_count": 107,
   "metadata": {},
   "outputs": [
    {
     "data": {
      "text/plain": [
       "function"
      ]
     },
     "execution_count": 107,
     "metadata": {},
     "output_type": "execute_result"
    }
   ],
   "source": [
    "type(square)"
   ]
  },
  {
   "cell_type": "code",
   "execution_count": 108,
   "metadata": {},
   "outputs": [
    {
     "data": {
      "text/plain": [
       "function"
      ]
     },
     "execution_count": 108,
     "metadata": {},
     "output_type": "execute_result"
    }
   ],
   "source": [
    "#As functions are objects, we can assign them to variables too\n",
    "f = square\n",
    "type (f)"
   ]
  },
  {
   "cell_type": "code",
   "execution_count": 109,
   "metadata": {},
   "outputs": [
    {
     "data": {
      "text/plain": [
       "True"
      ]
     },
     "execution_count": 109,
     "metadata": {},
     "output_type": "execute_result"
    }
   ],
   "source": [
    "f is square"
   ]
  },
  {
   "cell_type": "code",
   "execution_count": 110,
   "metadata": {},
   "outputs": [
    {
     "data": {
      "text/plain": [
       "4"
      ]
     },
     "execution_count": 110,
     "metadata": {},
     "output_type": "execute_result"
    }
   ],
   "source": [
    "f(2)"
   ]
  },
  {
   "cell_type": "code",
   "execution_count": 111,
   "metadata": {},
   "outputs": [
    {
     "data": {
      "text/plain": [
       "int"
      ]
     },
     "execution_count": 111,
     "metadata": {},
     "output_type": "execute_result"
    }
   ],
   "source": [
    "type(f(2))"
   ]
  },
  {
   "cell_type": "code",
   "execution_count": 112,
   "metadata": {},
   "outputs": [],
   "source": [
    "# A function can return a function.\n",
    "def cube(a):\n",
    "    return a ** 3"
   ]
  },
  {
   "cell_type": "code",
   "execution_count": 113,
   "metadata": {},
   "outputs": [],
   "source": [
    "def select_function(fn_id):\n",
    "    if fn_id == 1:\n",
    "        return square\n",
    "    else:\n",
    "        return cube\n"
   ]
  },
  {
   "cell_type": "code",
   "execution_count": 115,
   "metadata": {},
   "outputs": [
    {
     "name": "stdout",
     "output_type": "stream",
     "text": [
      "0x15b1daf8840\n",
      "0x15b1daf8840\n",
      "0x15b1da27c80\n",
      "<class 'function'>\n",
      "-----------------------\n",
      "f is square : True\n",
      "f is cube : False\n",
      "<function square at 0x0000015B1DAF8840>\n",
      "4\n"
     ]
    }
   ],
   "source": [
    "f = select_function(1)\n",
    "print(hex(id(f)))\n",
    "print(hex(id(square)))\n",
    "print(hex(id(cube)))\n",
    "print(type(f))\n",
    "print(\"-----------------------\")\n",
    "print('f is square :', f is square)\n",
    "print('f is cube :', f is cube)\n",
    "print(f)\n",
    "print(f(2))"
   ]
  },
  {
   "cell_type": "code",
   "execution_count": 116,
   "metadata": {},
   "outputs": [
    {
     "name": "stdout",
     "output_type": "stream",
     "text": [
      "0x15b1da27c80\n",
      "0x15b1daf8840\n",
      "0x15b1da27c80\n",
      "<class 'function'>\n",
      "-----------------------\n",
      "f is square : False\n",
      "f is cube : True\n",
      "<function cube at 0x0000015B1DA27C80>\n",
      "8\n"
     ]
    }
   ],
   "source": [
    "f = select_function(2)\n",
    "print(hex(id(f)))\n",
    "print(hex(id(square)))\n",
    "print(hex(id(cube)))\n",
    "print(type(f))\n",
    "print(\"-----------------------\")\n",
    "print('f is square :', f is square)\n",
    "print('f is cube :', f is cube)\n",
    "print(f)\n",
    "print(f(2))"
   ]
  },
  {
   "cell_type": "code",
   "execution_count": 119,
   "metadata": {},
   "outputs": [
    {
     "data": {
      "text/plain": [
       "(25,)"
      ]
     },
     "execution_count": 119,
     "metadata": {},
     "output_type": "execute_result"
    }
   ],
   "source": [
    "#We could even call it like this:\n",
    "select_function(1)(5),"
   ]
  },
  {
   "cell_type": "code",
   "execution_count": 120,
   "metadata": {},
   "outputs": [
    {
     "data": {
      "text/plain": [
       "(125,)"
      ]
     },
     "execution_count": 120,
     "metadata": {},
     "output_type": "execute_result"
    }
   ],
   "source": [
    "select_function(2)(5),"
   ]
  }
 ],
 "metadata": {
  "kernelspec": {
   "display_name": "Python 3",
   "language": "python",
   "name": "python3"
  },
  "language_info": {
   "codemirror_mode": {
    "name": "ipython",
    "version": 3
   },
   "file_extension": ".py",
   "mimetype": "text/x-python",
   "name": "python",
   "nbconvert_exporter": "python",
   "pygments_lexer": "ipython3",
   "version": "3.7.1"
  }
 },
 "nbformat": 4,
 "nbformat_minor": 2
}
